{
 "cells": [
  {
   "cell_type": "markdown",
   "id": "75d728aa-2b4c-4c64-929a-7051917ce73b",
   "metadata": {},
   "source": [
    "Import"
   ]
  },
  {
   "cell_type": "code",
   "execution_count": 4,
   "id": "06eae7aa-6260-4cf7-89d3-f3e2c03f748b",
   "metadata": {},
   "outputs": [],
   "source": [
    "import zipfile\n",
    "from pathlib import Path\n",
    "import pandas as pd\n",
    "import urllib.request\n",
    "from bs4 import BeautifulSoup"
   ]
  },
  {
   "cell_type": "code",
   "execution_count": 5,
   "id": "c1587e8d-c2cc-4353-a4fc-4cdd202bfad2",
   "metadata": {},
   "outputs": [],
   "source": [
    "url1 = 'https://divvy-tripdata.s3.amazonaws.com/index.html'"
   ]
  },
  {
   "cell_type": "markdown",
   "id": "7197990c-4bb1-4799-99f3-3b2535bf715c",
   "metadata": {},
   "source": [
    "Criar lista de arquivos"
   ]
  },
  {
   "cell_type": "code",
   "execution_count": 7,
   "id": "cd039b2d-cf26-4ce3-a2c4-09e22cd012a8",
   "metadata": {},
   "outputs": [],
   "source": [
    "lista = []\n",
    "for x in range(202301,202311):\n",
    "    #print ('https://divvy-tripdata.s3.amazonaws.com/' + str(x) + '-divvy-tripdata.zip')\n",
    "    lista.append('https://divvy-tripdata.s3.amazonaws.com/' + str(x) + '-divvy-tripdata.zip')"
   ]
  },
  {
   "cell_type": "markdown",
   "id": "b02c8b6a-e7c5-4083-8376-28e150888361",
   "metadata": {},
   "source": [
    "Baixar arquivos da lista"
   ]
  },
  {
   "cell_type": "code",
   "execution_count": 9,
   "id": "75a26de0-c363-4087-8f06-9f952cf6dbda",
   "metadata": {},
   "outputs": [
    {
     "name": "stdout",
     "output_type": "stream",
     "text": [
      "Successfully downloaded 202301-divvy-tripdata.zip\n",
      "Successfully downloaded 202302-divvy-tripdata.zip\n",
      "Successfully downloaded 202303-divvy-tripdata.zip\n",
      "Successfully downloaded 202304-divvy-tripdata.zip\n",
      "Successfully downloaded 202305-divvy-tripdata.zip\n",
      "Successfully downloaded 202306-divvy-tripdata.zip\n",
      "Successfully downloaded 202307-divvy-tripdata.zip\n",
      "Successfully downloaded 202308-divvy-tripdata.zip\n",
      "Successfully downloaded 202309-divvy-tripdata.zip\n",
      "Successfully downloaded 202310-divvy-tripdata.zip\n"
     ]
    }
   ],
   "source": [
    "for arquivo in lista:\n",
    "    try:\n",
    "        filename = arquivo.split('/', 3)[3] #divide pelas '/' e pega a última parte\n",
    "        urllib.request.urlretrieve(arquivo, filename)\n",
    "        print(f'Successfully downloaded {filename}')\n",
    "    except Exception as e:\n",
    "        print(f'Error downloading {filename}: {e}')"
   ]
  },
  {
   "cell_type": "raw",
   "id": "c625c277-0a22-41ae-bec3-c3f7bcf26620",
   "metadata": {},
   "source": [
    "Mas os arquivos zip contém mais de um arquivo. Então é preciso fazer uma lista, e pegar o primeiro arquivo .csv contido em cada zip"
   ]
  },
  {
   "cell_type": "code",
   "execution_count": 10,
   "id": "52921fec-5c48-4893-b914-0aae06985b08",
   "metadata": {},
   "outputs": [],
   "source": [
    "path = Path()"
   ]
  },
  {
   "cell_type": "code",
   "execution_count": 11,
   "id": "61cad602-ab31-4670-85e0-000e6806e15f",
   "metadata": {},
   "outputs": [],
   "source": [
    "full_path = path.cwd()"
   ]
  },
  {
   "cell_type": "code",
   "execution_count": 12,
   "id": "7325a195-42c6-458a-84fb-7fc45b132e04",
   "metadata": {},
   "outputs": [
    {
     "data": {
      "text/plain": [
       "PosixPath('/home/0c365608-8b36-45f6-afa4-1baa512bbf57/personal')"
      ]
     },
     "execution_count": 12,
     "metadata": {},
     "output_type": "execute_result"
    }
   ],
   "source": [
    "full_path"
   ]
  },
  {
   "cell_type": "code",
   "execution_count": 13,
   "id": "a968ae24-4220-47e0-8eb9-ba1b6099efa9",
   "metadata": {},
   "outputs": [],
   "source": [
    "lista2 = list(full_path.glob('*.zip'))"
   ]
  },
  {
   "cell_type": "code",
   "execution_count": 14,
   "id": "9cd8ba23-4088-42e6-94cb-ce1e95e26183",
   "metadata": {},
   "outputs": [],
   "source": [
    "# Initialize an empty DataFrame to store the combined data\n",
    "combined_df = pd.DataFrame()"
   ]
  },
  {
   "cell_type": "code",
   "execution_count": 15,
   "id": "d4a1bf01-c92b-4772-899f-69f9d3ad8353",
   "metadata": {},
   "outputs": [
    {
     "name": "stdout",
     "output_type": "stream",
     "text": [
      "processando arquivo 202303-divvy-tripdata.csv\n",
      "processando arquivo 202304-divvy-tripdata.csv\n",
      "processando arquivo 202307-divvy-tripdata.csv\n",
      "processando arquivo 202301-divvy-tripdata.csv\n",
      "processando arquivo 202309-divvy-tripdata.csv\n",
      "processando arquivo 202302-divvy-tripdata.csv\n",
      "processando arquivo 202310-divvy-tripdata.csv\n",
      "processando arquivo 202308-divvy-tripdata.csv\n",
      "processando arquivo 202306-divvy-tripdata.csv\n",
      "processando arquivo 202305-divvy-tripdata.csv\n"
     ]
    }
   ],
   "source": [
    "# Iterate through the list of zip files\n",
    "for zip_file_path in lista2:\n",
    "    with zipfile.ZipFile(zip_file_path, 'r') as zip_file:\n",
    "        # List all files in the zip archive\n",
    "        zip_file_contents = zip_file.namelist()\n",
    "\n",
    "        # Assume you want to read a CSV file, modify as needed\n",
    "        csv_files = [file for file in zip_file_contents if file.endswith('.csv')]\n",
    "\n",
    "        # Check if there's at least one CSV file in the zip archive\n",
    "        if csv_files:\n",
    "            # Assuming you want to read the first CSV file, modify as needed\n",
    "            csv_file_name = csv_files[0]\n",
    "            print(f\"processando arquivo {csv_file_name}\")\n",
    "\n",
    "            # Read the CSV file from the zip file into a DataFrame\n",
    "            df = pd.read_csv(zip_file.open(csv_file_name), parse_dates=['started_at', 'ended_at'])\n",
    "\n",
    "            # Concatenate the DataFrame to the combined DataFrame\n",
    "            combined_df = pd.concat([combined_df, df], ignore_index=True)"
   ]
  },
  {
   "cell_type": "code",
   "execution_count": 16,
   "id": "063c7e1c-7da8-4f94-a275-792ae5af694c",
   "metadata": {},
   "outputs": [
    {
     "data": {
      "text/html": [
       "<div>\n",
       "<style scoped>\n",
       "    .dataframe tbody tr th:only-of-type {\n",
       "        vertical-align: middle;\n",
       "    }\n",
       "\n",
       "    .dataframe tbody tr th {\n",
       "        vertical-align: top;\n",
       "    }\n",
       "\n",
       "    .dataframe thead th {\n",
       "        text-align: right;\n",
       "    }\n",
       "</style>\n",
       "<table border=\"1\" class=\"dataframe\">\n",
       "  <thead>\n",
       "    <tr style=\"text-align: right;\">\n",
       "      <th></th>\n",
       "      <th>ride_id</th>\n",
       "      <th>rideable_type</th>\n",
       "      <th>started_at</th>\n",
       "      <th>ended_at</th>\n",
       "      <th>start_station_name</th>\n",
       "      <th>start_station_id</th>\n",
       "      <th>end_station_name</th>\n",
       "      <th>end_station_id</th>\n",
       "      <th>start_lat</th>\n",
       "      <th>start_lng</th>\n",
       "      <th>end_lat</th>\n",
       "      <th>end_lng</th>\n",
       "      <th>member_casual</th>\n",
       "    </tr>\n",
       "  </thead>\n",
       "  <tbody>\n",
       "    <tr>\n",
       "      <th>0</th>\n",
       "      <td>6842AA605EE9FBB3</td>\n",
       "      <td>electric_bike</td>\n",
       "      <td>2023-03-16 08:20:34</td>\n",
       "      <td>2023-03-16 08:22:52</td>\n",
       "      <td>Clark St &amp; Armitage Ave</td>\n",
       "      <td>13146</td>\n",
       "      <td>Larrabee St &amp; Webster Ave</td>\n",
       "      <td>13193</td>\n",
       "      <td>41.918413</td>\n",
       "      <td>-87.636451</td>\n",
       "      <td>41.921822</td>\n",
       "      <td>-87.644140</td>\n",
       "      <td>member</td>\n",
       "    </tr>\n",
       "    <tr>\n",
       "      <th>1</th>\n",
       "      <td>F984267A75B99A8C</td>\n",
       "      <td>electric_bike</td>\n",
       "      <td>2023-03-04 14:07:06</td>\n",
       "      <td>2023-03-04 14:15:31</td>\n",
       "      <td>Public Rack - Kedzie Ave &amp; Argyle St</td>\n",
       "      <td>491</td>\n",
       "      <td>NaN</td>\n",
       "      <td>NaN</td>\n",
       "      <td>41.970000</td>\n",
       "      <td>-87.710000</td>\n",
       "      <td>41.950000</td>\n",
       "      <td>-87.710000</td>\n",
       "      <td>member</td>\n",
       "    </tr>\n",
       "    <tr>\n",
       "      <th>2</th>\n",
       "      <td>FF7CF57CFE026D02</td>\n",
       "      <td>classic_bike</td>\n",
       "      <td>2023-03-31 12:28:09</td>\n",
       "      <td>2023-03-31 12:38:47</td>\n",
       "      <td>Orleans St &amp; Chestnut St (NEXT Apts)</td>\n",
       "      <td>620</td>\n",
       "      <td>Clark St &amp; Randolph St</td>\n",
       "      <td>TA1305000030</td>\n",
       "      <td>41.898203</td>\n",
       "      <td>-87.637536</td>\n",
       "      <td>41.884576</td>\n",
       "      <td>-87.631890</td>\n",
       "      <td>member</td>\n",
       "    </tr>\n",
       "    <tr>\n",
       "      <th>3</th>\n",
       "      <td>6B61B916032CB6D6</td>\n",
       "      <td>classic_bike</td>\n",
       "      <td>2023-03-22 14:09:08</td>\n",
       "      <td>2023-03-22 14:24:51</td>\n",
       "      <td>Desplaines St &amp; Kinzie St</td>\n",
       "      <td>TA1306000003</td>\n",
       "      <td>Sheffield Ave &amp; Kingsbury St</td>\n",
       "      <td>13154</td>\n",
       "      <td>41.888716</td>\n",
       "      <td>-87.644448</td>\n",
       "      <td>41.910522</td>\n",
       "      <td>-87.653106</td>\n",
       "      <td>member</td>\n",
       "    </tr>\n",
       "    <tr>\n",
       "      <th>4</th>\n",
       "      <td>E55E61A5F1260040</td>\n",
       "      <td>electric_bike</td>\n",
       "      <td>2023-03-09 07:15:00</td>\n",
       "      <td>2023-03-09 07:26:00</td>\n",
       "      <td>Walsh Park</td>\n",
       "      <td>18067</td>\n",
       "      <td>Sangamon St &amp; Lake St</td>\n",
       "      <td>TA1306000015</td>\n",
       "      <td>41.914480</td>\n",
       "      <td>-87.668013</td>\n",
       "      <td>41.885779</td>\n",
       "      <td>-87.651025</td>\n",
       "      <td>member</td>\n",
       "    </tr>\n",
       "  </tbody>\n",
       "</table>\n",
       "</div>"
      ],
      "text/plain": [
       "            ride_id  rideable_type          started_at            ended_at  \\\n",
       "0  6842AA605EE9FBB3  electric_bike 2023-03-16 08:20:34 2023-03-16 08:22:52   \n",
       "1  F984267A75B99A8C  electric_bike 2023-03-04 14:07:06 2023-03-04 14:15:31   \n",
       "2  FF7CF57CFE026D02   classic_bike 2023-03-31 12:28:09 2023-03-31 12:38:47   \n",
       "3  6B61B916032CB6D6   classic_bike 2023-03-22 14:09:08 2023-03-22 14:24:51   \n",
       "4  E55E61A5F1260040  electric_bike 2023-03-09 07:15:00 2023-03-09 07:26:00   \n",
       "\n",
       "                     start_station_name start_station_id  \\\n",
       "0               Clark St & Armitage Ave            13146   \n",
       "1  Public Rack - Kedzie Ave & Argyle St              491   \n",
       "2  Orleans St & Chestnut St (NEXT Apts)              620   \n",
       "3             Desplaines St & Kinzie St     TA1306000003   \n",
       "4                            Walsh Park            18067   \n",
       "\n",
       "               end_station_name end_station_id  start_lat  start_lng  \\\n",
       "0     Larrabee St & Webster Ave          13193  41.918413 -87.636451   \n",
       "1                           NaN            NaN  41.970000 -87.710000   \n",
       "2        Clark St & Randolph St   TA1305000030  41.898203 -87.637536   \n",
       "3  Sheffield Ave & Kingsbury St          13154  41.888716 -87.644448   \n",
       "4         Sangamon St & Lake St   TA1306000015  41.914480 -87.668013   \n",
       "\n",
       "     end_lat    end_lng member_casual  \n",
       "0  41.921822 -87.644140        member  \n",
       "1  41.950000 -87.710000        member  \n",
       "2  41.884576 -87.631890        member  \n",
       "3  41.910522 -87.653106        member  \n",
       "4  41.885779 -87.651025        member  "
      ]
     },
     "execution_count": 16,
     "metadata": {},
     "output_type": "execute_result"
    }
   ],
   "source": [
    "combined_df.head()"
   ]
  },
  {
   "cell_type": "code",
   "execution_count": 17,
   "id": "4ec1f6c9-7501-4de4-ba65-eefe2075c70f",
   "metadata": {},
   "outputs": [],
   "source": [
    "#Calcular a duração da viagem\n",
    "combined_df[\"travel_duration\"] = (combined_df[\"ended_at\"] - combined_df[\"started_at\"]).dt.total_seconds()"
   ]
  },
  {
   "cell_type": "code",
   "execution_count": 18,
   "id": "84ca93c8-1293-4762-81e5-9627cbe5cd6e",
   "metadata": {},
   "outputs": [],
   "source": [
    "#tradução dos nomes dos dias da semana\n",
    "day_name_translation = {\n",
    "    'Monday': 'Segunda-feira',\n",
    "    'Tuesday': 'Terça-feira',\n",
    "    'Wednesday': 'Quarta-feira',\n",
    "    'Thursday': 'Quinta-feira',\n",
    "    'Friday': 'Sexta-feira',\n",
    "    'Saturday': 'Sábado',\n",
    "    'Sunday': 'Domingo'\n",
    "}\n",
    "#aplicar a tradução\n",
    "combined_df[\"dia_semana\"] = combined_df[\"started_at\"].dt.day_name().map(day_name_translation)"
   ]
  },
  {
   "cell_type": "markdown",
   "id": "c2cad91d-3a1e-4831-922d-eb47476831e3",
   "metadata": {},
   "source": [
    "Limpeza dos dados"
   ]
  },
  {
   "cell_type": "code",
   "execution_count": 20,
   "id": "f30bece6-ddb5-469a-98ef-c66174b6d1d8",
   "metadata": {},
   "outputs": [],
   "source": [
    "# combined_df.describe() #medidas de estatística descritiva\n",
    "# combined_df.info() #descreve o tipo de dados em cada coluna\n",
    "# combined_df.isnull().sum()\n",
    "# combined_df.count() #conta os valores não vazios, assim dá pra ver onde tá faltando dado"
   ]
  },
  {
   "cell_type": "raw",
   "id": "98acbdf9-3246-4f43-945f-1f19bd46b481",
   "metadata": {},
   "source": [
    "\"\"\"\n",
    "No meu caso, o campo com maior numero de valores vazios é o end_station_id, com 833.520 linhas.\n",
    "Ou seja, são bicicletas que não foram devolvidas?\n",
    "\n",
    "Resumo:\n",
    "    785.003 viagens sem o nome de inicio\n",
    "    785.135 sem o id da estação de inicio\n",
    "    833.379 sem o  nome da estação de fim\n",
    "    833.520 sem o id da estação de fim\n",
    "    6.401 sem as coordenadas da estação de fim\n",
    "\"\"\"\n"
   ]
  },
  {
   "cell_type": "raw",
   "id": "c46b93d3-8a83-4661-94ce-95b881556ef6",
   "metadata": {},
   "source": [
    "#Podemos pesquisar caso a caso, e ver se tem como completar as informações que estão faltando."
   ]
  },
  {
   "cell_type": "code",
   "execution_count": 21,
   "id": "aae178ae-1b5c-433f-b1d0-15f5ffd6225d",
   "metadata": {},
   "outputs": [],
   "source": [
    "#Para viagens sem o nome da estação de inicio:\n",
    "null_df = combined_df[combined_df['start_station_name'].isna()]\n",
    "null_df = null_df.sort_values(by='start_station_name')\n",
    "short_null_df = null_df.head(5)\n",
    "#CONCLUSÃO: não tem o id nem o nome da estação de inicio, mas tem as coordenadas de inicio"
   ]
  },
  {
   "cell_type": "code",
   "execution_count": 22,
   "id": "b581b654-6455-41b4-8b0c-567369410f72",
   "metadata": {},
   "outputs": [],
   "source": [
    "#Para viagens sem o id da estação de inicio:\n",
    "null_df = combined_df[combined_df['start_station_id'].isna()]\n",
    "null_df = null_df.sort_values(by='start_station_id')\n",
    "short_null_df = null_df.head(5)\n",
    "#CONCLUSÃO: não tem o id nem o nome da estação de inicio, mas tem as coordenadas de inicio"
   ]
  },
  {
   "cell_type": "code",
   "execution_count": 23,
   "id": "9bc402ee-4e49-42ef-a239-b0f68d8dd252",
   "metadata": {},
   "outputs": [],
   "source": [
    "#Para viagens sem o nome da estação de fim:\n",
    "null_df = combined_df[combined_df['end_station_name'].isna()]\n",
    "null_df = null_df.sort_values(by='end_station_name')\n",
    "short_null_df = null_df.head(5)\n",
    "#CONCLUSÃO: não tem o id nem o nome da estação de fim, mas tem as coordenadas de fim"
   ]
  },
  {
   "cell_type": "code",
   "execution_count": 24,
   "id": "4e493a72-d722-44ce-84f0-076a3848e501",
   "metadata": {},
   "outputs": [],
   "source": [
    "#Para viagens sem o id da estação de fim:\n",
    "null_df = combined_df[combined_df['end_station_id'].isna()]\n",
    "null_df = null_df.sort_values(by='end_station_id')\n",
    "short_null_df = null_df.head(5)\n",
    "#CONCLUSÃO: não tem o id nem o nome da estação de fim, mas tem as coordenadas de fim"
   ]
  },
  {
   "cell_type": "code",
   "execution_count": 25,
   "id": "037bc3be-c604-4ca5-9b49-86bbc8941a0a",
   "metadata": {},
   "outputs": [],
   "source": [
    "#Para viagens sem as coordenadas da estação de fim:\n",
    "null_df = combined_df[combined_df['end_lat'].isna()]\n",
    "null_df = null_df.sort_values(by='end_lat')\n",
    "short_null_df = null_df.head(5)\n",
    "#CONCLUSÃO: essas ferrou, porque não tem mesmo nem o id nem o nome nem as coordenadas de fim.\n",
    "#Uai, mas elas tem 'ended_at'. Como que terminou e não salvou os dados da estação que foi entregue?"
   ]
  },
  {
   "cell_type": "raw",
   "id": "a34e9edf-5c8b-4e26-b9ac-2836f671f438",
   "metadata": {},
   "source": [
    "#VOU DEIXAR ESSA TENTATIVA DE PREENCHER OS DADOS PRA DEPOIS"
   ]
  },
  {
   "cell_type": "markdown",
   "id": "6d208b78-a9b7-4a47-a76c-5e8881b0b4a0",
   "metadata": {},
   "source": [
    "Análise descritiva"
   ]
  },
  {
   "cell_type": "markdown",
   "id": "cd6e9caf-53d2-4bcc-80c4-92a51396c364",
   "metadata": {},
   "source": [
    "Sem separar por grupo"
   ]
  },
  {
   "cell_type": "code",
   "execution_count": 28,
   "id": "e352d4af-df77-47f9-9eca-f4af0aceba1f",
   "metadata": {},
   "outputs": [
    {
     "data": {
      "text/plain": [
       "dia_semana\n",
       "Segunda-feira    654736\n",
       "Domingo          679509\n",
       "Quarta-feira     739191\n",
       "Terça-feira      744853\n",
       "Quinta-feira     755020\n",
       "Sexta-feira      758152\n",
       "Sábado           801825\n",
       "Name: dia_semana, dtype: int64"
      ]
     },
     "execution_count": 28,
     "metadata": {},
     "output_type": "execute_result"
    }
   ],
   "source": [
    "#Qual o dia que tem mais viagens?\n",
    "combined_df.groupby(by='dia_semana')['dia_semana'].count().sort_values()"
   ]
  },
  {
   "cell_type": "code",
   "execution_count": 29,
   "id": "1cd723a7-ebdb-44bb-80dc-c84479c69b01",
   "metadata": {},
   "outputs": [],
   "source": [
    "#Checando a coluna de duração da viagem. Não pode ter duração negativa, né\n",
    "null_df = combined_df.sort_values(by='travel_duration', ascending=True).head(10)\n",
    "null_df = combined_df[combined_df['travel_duration'] < 0]"
   ]
  },
  {
   "cell_type": "code",
   "execution_count": 30,
   "id": "83444b42-c31a-497f-b6b3-05feebe833fa",
   "metadata": {},
   "outputs": [],
   "source": [
    "null_df = combined_df.describe() #salvar em um df pra ver todas as colunas\n",
    "#olhando o resultado, deu pra ver que tem linhas com lat ou long = 0."
   ]
  },
  {
   "cell_type": "code",
   "execution_count": 31,
   "id": "8b351375-9feb-45b3-9d21-0e72dc3fe52b",
   "metadata": {},
   "outputs": [],
   "source": [
    "#Fazendo uma lista de estações, não tem estação com lat long = 0\n",
    "df_stations = combined_df[['start_station_id', 'start_station_name', 'start_lat', \\\n",
    "  'start_lng']].drop_duplicates(subset=['start_station_id'])\n",
    "#Confirmando filtrando as linhas    \n",
    "null_df = combined_df[combined_df['end_lat'] == 0]"
   ]
  },
  {
   "cell_type": "markdown",
   "id": "79f6b040-cd84-4a6a-abc0-2d161d7bf3e9",
   "metadata": {},
   "source": [
    "Mas precisa limpar os dados primeiro"
   ]
  },
  {
   "cell_type": "code",
   "execution_count": 33,
   "id": "d13ae081-aa16-46c1-87ae-0c01338ac28f",
   "metadata": {},
   "outputs": [],
   "source": [
    "#LIMPEZA DOS DADOS:\n",
    "#Excluída qualquer linha com algum valor vazio\n",
    "rows_with_null = combined_df[combined_df.isnull().any(axis=1)] #busca por null ou NaN\n",
    "rows_with_nan = combined_df[combined_df.isna().any(axis=1)]  #busca por null ou NaN\n",
    "\n",
    "#mantém o oposto; linhas sem null ou NaN\n",
    "valid_rows = combined_df[~combined_df.isna().any(axis=1)]"
   ]
  },
  {
   "cell_type": "code",
   "execution_count": 34,
   "id": "a1cc47cc-966f-4076-963f-a55d640eb181",
   "metadata": {},
   "outputs": [],
   "source": [
    "#Excluída linha com duração de viagem negativa ou nula (com zero)\n",
    "valid_rows.shape[0] #3.889.766 linhas\n",
    "valid_rows[valid_rows['travel_duration'] == 0].shape[0] #438 linhas\n",
    "valid_rows[valid_rows['travel_duration'] < 0].shape[0] #30 linhas\n",
    "valid_rows[valid_rows['travel_duration'] > 0].shape[0] #3.889.766 - 438 - 30 = 3.889.298 linhas\n",
    "\n",
    "valid_rows2 = valid_rows[valid_rows['travel_duration'] > 0]\n",
    "\n",
    "#Excluída linha com lat long igual a zero\n",
    "valid_rows2.shape[0]\n",
    "valid_rows2[valid_rows2['end_lat'] == 0]\n",
    "valid_rows2[valid_rows2['end_lng'] == 0]\n",
    "valid_rows2[valid_rows2['end_lat'] != 0].shape[0]\n",
    "\n",
    "valid_rows3 = valid_rows2[valid_rows2['end_lat'] != 0]"
   ]
  },
  {
   "cell_type": "code",
   "execution_count": 35,
   "id": "15ad259c-7e0b-4ee8-afe3-aaffa389111a",
   "metadata": {},
   "outputs": [
    {
     "data": {
      "text/plain": [
       "member_casual\n",
       "casual    1422785\n",
       "member    2466510\n",
       "Name: member_casual, dtype: int64"
      ]
     },
     "execution_count": 35,
     "metadata": {},
     "output_type": "execute_result"
    }
   ],
   "source": [
    "#checar os valores da coluna member_casual\n",
    "valid_rows3.groupby(by='member_casual')['member_casual'].count() #ufa, tá certo"
   ]
  },
  {
   "cell_type": "markdown",
   "id": "a0ef2d76-568e-4e67-9a11-2f1140b1be5a",
   "metadata": {},
   "source": [
    "Agora sim Análise Descritiva dos dados válidos"
   ]
  },
  {
   "cell_type": "code",
   "execution_count": 37,
   "id": "6a99106b-b847-47d6-b8bc-392dd15e4996",
   "metadata": {},
   "outputs": [],
   "source": [
    "df_descritive = valid_rows3.describe()"
   ]
  },
  {
   "cell_type": "code",
   "execution_count": 38,
   "id": "69056371-f137-46c2-a3c6-5d99430c303f",
   "metadata": {},
   "outputs": [
    {
     "data": {
      "text/plain": [
       "dia_semana\n",
       "Segunda-feira    504773\n",
       "Domingo          513842\n",
       "Quarta-feira     562342\n",
       "Sexta-feira      564618\n",
       "Terça-feira      571019\n",
       "Quinta-feira     572462\n",
       "Sábado           600239\n",
       "Name: dia_semana, dtype: int64"
      ]
     },
     "execution_count": 38,
     "metadata": {},
     "output_type": "execute_result"
    }
   ],
   "source": [
    "#contagem do numero de viagens por dia da semana\n",
    "valid_rows3.groupby(by='dia_semana')['dia_semana'].count().sort_values()"
   ]
  },
  {
   "cell_type": "code",
   "execution_count": 39,
   "id": "c730e4f4-c7e6-42e1-8070-26e23f2e5628",
   "metadata": {},
   "outputs": [
    {
     "name": "stderr",
     "output_type": "stream",
     "text": [
      "/tmp/ipykernel_104/3148194931.py:5: SettingWithCopyWarning: \n",
      "A value is trying to be set on a copy of a slice from a DataFrame.\n",
      "Try using .loc[row_indexer,col_indexer] = value instead\n",
      "\n",
      "See the caveats in the documentation: https://pandas.pydata.org/pandas-docs/stable/user_guide/indexing.html#returning-a-view-versus-a-copy\n",
      "  valid_rows3['month'] = valid_rows3['started_at'].dt.month\n"
     ]
    }
   ],
   "source": [
    "#mês que teve mais viagem\n",
    "# Now, group by month and count the occurrences\n",
    "monthly_counts = valid_rows3.groupby(pd.Grouper(key='started_at', freq='M')).size().reset_index(name='counts')\n",
    "#OR\n",
    "valid_rows3['month'] = valid_rows3['started_at'].dt.month\n",
    "monthly_counts = valid_rows3.groupby('month').size().reset_index(name='counts')"
   ]
  },
  {
   "cell_type": "code",
   "execution_count": 40,
   "id": "a8e7dc34-56b6-46b0-8a55-b42f0037883b",
   "metadata": {},
   "outputs": [
    {
     "data": {
      "text/plain": [
       "<Axes: xlabel='month'>"
      ]
     },
     "execution_count": 40,
     "metadata": {},
     "output_type": "execute_result"
    },
    {
     "data": {
      "image/png": "[encoded data removed]",
      "text/plain": [
       "<Figure size 1000x600 with 1 Axes>"
      ]
     },
     "metadata": {},
     "output_type": "display_data"
    },
    {
     "data": {
      "image/png": "[encoded data removed]",
      "text/plain": [
       "<Figure size 640x480 with 1 Axes>"
      ]
     },
     "metadata": {},
     "output_type": "display_data"
    }
   ],
   "source": [
    "##plotando esse gráfico\n",
    "monthly_counts.plot(kind='bar', x='month', y='counts', figsize=(10, 6), legend=False, color='skyblue',\n",
    "                    title='Monthly Counts', xlabel='Month', ylabel='Counts')\n",
    "monthly_counts.plot(kind='bar', x='month', y='counts', legend=False, rot=0)"
   ]
  },
  {
   "cell_type": "markdown",
   "id": "d22cbee1-238a-4d94-a021-47676b5427a9",
   "metadata": {},
   "source": [
    "O problema da quantidade de estações"
   ]
  },
  {
   "cell_type": "code",
   "execution_count": 42,
   "id": "40e8f3a0-6c0f-498e-9f20-286f6d9ddab6",
   "metadata": {},
   "outputs": [],
   "source": [
    "#quantidade de estações\n",
    "num_stations = combined_df[['start_station_id', 'start_station_name', 'start_lat', \\\n",
    "  'start_lng']].drop_duplicates(subset=['start_station_id']).reset_index(drop=True)"
   ]
  },
  {
   "cell_type": "code",
   "execution_count": 43,
   "id": "a80b09d4-e7f0-44ca-8e57-62dfba83a8a7",
   "metadata": {},
   "outputs": [],
   "source": [
    "num_stations = combined_df[['start_station_name']].drop_duplicates(subset=['start_station_name']).reset_index(drop=True)"
   ]
  },
  {
   "cell_type": "code",
   "execution_count": 44,
   "id": "3f38a633-6a32-48ed-a1dc-35a39640a06b",
   "metadata": {},
   "outputs": [],
   "source": [
    "num_stations = combined_df[['start_lng']].drop_duplicates(subset=['start_lng']).reset_index(drop=True)"
   ]
  },
  {
   "cell_type": "code",
   "execution_count": 45,
   "id": "63e6b001-bb68-44d6-8591-84091aba9a52",
   "metadata": {},
   "outputs": [],
   "source": [
    "unique_names = valid_rows3.groupby('start_station_id')['start_station_name'].unique()"
   ]
  },
  {
   "cell_type": "code",
   "execution_count": 46,
   "id": "52efb20a-12e7-422e-952b-2f19118d3d78",
   "metadata": {},
   "outputs": [
    {
     "name": "stdout",
     "output_type": "stream",
     "text": [
      "Station ID 13259 has multiple names: ['California Ave & Francis Pl (Temp)' 'California Ave & Francis Pl']\n",
      "Station ID 13290 has multiple names: ['Noble St & Milwaukee Ave' 'Noble St & Milwaukee Ave (Temp)']\n",
      "Station ID 15541 has multiple names: ['Buckingham Fountain' 'Buckingham Fountain (Temp)'\n",
      " 'Buckingham Fountain (Columbus/Balbo)']\n",
      "Station ID 15541.1.1 has multiple names: ['Buckingham - Fountain' 'Buckingham Fountain']\n",
      "Station ID 15623 has multiple names: ['Campbell Ave & Montrose Ave' 'Campbell Ave & Montrose Ave (Temp)']\n",
      "Station ID 20133 has multiple names: ['Woodlawn & 103rd - Olive Harvey Vaccination Site' 'Woodlawn & 103rd']\n",
      "Station ID 303 has multiple names: ['Kildare Ave & Division St' 'Public Rack - Kildare Ave & Division St']\n",
      "Station ID 335.0 has multiple names: ['Public Rack - Komensky Ave & 31st St' 'Komensky Ave & 31st St']\n",
      "Station ID 390 has multiple names: ['Public Rack - California Ave & Marquette Rd'\n",
      " 'California Ave & Marquette Rd']\n",
      "Station ID 410 has multiple names: ['410' 'Campbell Ave & Augusta Blvd']\n",
      "Station ID 514 has multiple names: ['Ridge Blvd & Howard St' 'Public Rack - Hamlin Ave & Grand Ave']\n",
      "Station ID 517 has multiple names: ['Clark St & Jarvis Ave' 'Public Rack - Pulaski Rd & Armitage Ave']\n",
      "Station ID 518 has multiple names: ['Conservatory Dr & Lake St' 'Public Rack - Keystone Ave & North Ave']\n",
      "Station ID 519 has multiple names: ['Wolcott Ave & Fargo Ave' 'Public Rack - Kostner Ave & North Ave']\n",
      "Station ID 520 has multiple names: ['Greenview Ave & Jarvis Ave' 'Public Rack - Karlov Ave & Kamerling Ave']\n",
      "Station ID 523 has multiple names: ['Eastlake Ter & Howard St' 'Public Rack - Pulaski Rd & Roosevelt Rd']\n",
      "Station ID 525 has multiple names: ['Glenwood Ave & Touhy Ave' 'Public Rack - Kedzie Ave & Arthington St']\n",
      "Station ID 528 has multiple names: ['Pulaski Rd & Lake St' 'Public Rack - Pulaski Rd & 15th St']\n",
      "Station ID 534 has multiple names: ['Karlov Ave & Madison St' 'Public Rack - California Ave & Ogden Ave']\n",
      "Station ID 536 has multiple names: ['Kostner Ave & Lake St' 'Public Rack - Keeler Ave & 26th St']\n",
      "Station ID 537 has multiple names: ['Kenton Ave & Madison St' 'Public Rack - 2302 S Pulaski Rd']\n",
      "Station ID 543 has multiple names: ['Laramie Ave & Gladys Ave' 'Public Rack - Cicero Ave & Roscoe St']\n",
      "Station ID 545 has multiple names: ['Kostner Ave & Adams St' 'Public Rack - Linder Ave & Belmont Ave']\n",
      "Station ID 546 has multiple names: ['Damen Ave & Pershing Rd' 'Public Rack - Cicero Ave & Wellington Ave']\n",
      "Station ID 549 has multiple names: ['Marshfield Ave & 44th St' 'Public Rack - Laramie Ave & Fullerton Ave']\n",
      "Station ID 554 has multiple names: ['Damen Ave & 51st St' 'Public Rack - Cicero Ave & Le Moyne St - midblock']\n",
      "Station ID 559 has multiple names: ['Racine Ave & Garfield Blvd'\n",
      " 'Public Rack - Menard Ave & Dakin St - midblock']\n",
      "Station ID 560 has multiple names: ['Marshfield Ave & 59th St' 'Public Rack - Austin Ave & Roscoe St']\n",
      "Station ID 561 has multiple names: ['Public Rack - Melvina Ave & Belmont Ave' 'Damen Ave & 59th St']\n",
      "Station ID 562 has multiple names: ['Racine Ave & 61st St' 'Public Rack - Menard Ave & Belmont Ave']\n",
      "Station ID 564 has multiple names: ['Racine Ave & 65th St' 'Public Rack - Austin Ave & Wellington Ave']\n",
      "Station ID 567 has multiple names: ['May St & 69th St' 'Public Rack - Harvey Ave & North Ave']\n",
      "Station ID 569 has multiple names: ['Woodlawn Ave & 75th St' 'Public Rack - Menard Ave & Grand Ave']\n",
      "Station ID 570 has multiple names: ['Evans Ave & 75th St' 'Public Rack - McVicker Ave & Grand Ave']\n",
      "Station ID 571 has multiple names: ['Vernon Ave & 75th St' 'Public Rack - Austin Blvd & North Ave']\n",
      "Station ID 572 has multiple names: ['State St & 76th St' 'Public Rack - Hiawatha Park']\n",
      "Station ID 573 has multiple names: ['State St & 79th St' 'Public Rack - Panama Ave & Forest Preserve Ave']\n",
      "Station ID 574 has multiple names: ['Vernon Ave & 79th St' 'Public Rack - Canty Elementary School']\n",
      "Station ID 575 has multiple names: ['Cottage Grove Ave & 78th St'\n",
      " 'Public Rack - Pittsburgh Ave & Irving Park']\n",
      "Station ID 577 has multiple names: ['Stony Island Ave & South Chicago Ave'\n",
      " 'Public Rack - Ozark Ave & Addison St']\n",
      "Station ID 579 has multiple names: ['Phillips Ave & 79th St' 'Public Rack - Oketo Ave & Belmont Ave']\n",
      "Station ID 583 has multiple names: ['Stony Island Ave & 82nd St' 'Public Rack - Baltimore Ave & 134th St']\n",
      "Station ID 584 has multiple names: ['Ellis Ave & 83rd St' 'Public Rack - Baltimore Ave & 132nd St']\n",
      "Station ID 585 has multiple names: ['Cottage Grove Ave & 83rd St' 'Public Rack - Houston Ave & 131st St']\n",
      "Station ID 586 has multiple names: ['MLK Jr Dr & 83rd St' 'Public Rack - Stewart Ave & 123rd St']\n",
      "Station ID 588 has multiple names: ['South Chicago Ave & 83rd St' 'Public Rack - Yale Ave & 119th St']\n",
      "Station ID 594 has multiple names: ['Western Blvd & 48th Pl' 'Public Rack - Indiana Ave & 111th St']\n",
      "Station ID 595 has multiple names: ['Wabash Ave & 87th St' 'Public Rack - Michigan Ave & 113th St']\n",
      "Station ID 620 has multiple names: ['Orleans St & Chestnut St (NEXT Apts)' 'Public Rack - Ada St & 95th St']\n",
      "Station ID 623 has multiple names: ['Michigan Ave & 8th St' 'Public Rack - Halsted St & 102nd St']\n",
      "Station ID 624 has multiple names: ['Dearborn St & Van Buren St' 'Public Rack - Parnell Ave & 98th St']\n",
      "Station ID 631 has multiple names: ['Malcolm X College' 'Public Rack - Yates Ave & 100th St']\n",
      "Station ID 636 has multiple names: ['Orleans St & Hubbard St' 'Public Rack - Ewing Ave & 101st St']\n",
      "Station ID 637 has multiple names: ['Wood St & Chicago Ave' 'Public Rack - Ewing Ave & 96th St N']\n",
      "Station ID 638 has multiple names: ['Clinton St & Jackson Blvd' 'Public Rack - Ewing Ave & Indianapolis Ave']\n",
      "Station ID 639 has multiple names: ['Lakefront Trail & Wilson Ave' 'Public Rack - Ewing Ave & 99th St']\n",
      "Station ID 642 has multiple names: ['Latrobe Ave & Chicago Ave' 'Public Rack - Justine St & 87th St']\n",
      "Station ID 643 has multiple names: ['Smith Park' 'Public Rack - Vincennes Ave & 87th St']\n",
      "Station ID 644 has multiple names: ['Western Ave & Fillmore St' 'Public Rack - Wabash Ave & 87th St']\n",
      "Station ID 646 has multiple names: ['State St & 54th St' 'Public Rack - Cottage Grove Ave & 87th St']\n",
      "Station ID 649 has multiple names: ['Stewart Ave & 63rd St' 'Public Rack - Cottage Grove Ave & 92nd St']\n",
      "Station ID 650 has multiple names: ['Eggleston Ave & 69th St' 'Public Rack - Houston Ave & 91st St']\n",
      "Station ID 651 has multiple names: ['Michigan Ave & 71st St' 'Public Rack - Commercial Ave & 89th St']\n",
      "Station ID 654 has multiple names: ['Racine Ave & Washington Blvd' 'Public Rack - Racine Ave & 83rd St']\n",
      "Station ID 657 has multiple names: ['Wood St & Augusta Blvd' 'Public Rack - Wentworth Ave & 79th St']\n",
      "Station ID 658 has multiple names: ['Leavitt St & Division St' 'Public Rack - King Dr & 83rd St']\n",
      "Station ID 661 has multiple names: ['Evanston Civic Center' 'Public Rack - Langley Ave & 79th St']\n",
      "Station ID 662 has multiple names: ['Dodge Ave & Mulford St' 'Public Rack - Cottage Grove & 86th St']\n",
      "Station ID KA1504000086 has multiple names: ['Kedzie Ave & 24th St' 'Kedzie Ave & 24th St (Temp)']\n",
      "Station ID KA1504000141 has multiple names: ['Pulaski Rd & Eddy St (Temp)' 'Pulaski Rd & Eddy St']\n",
      "Station ID TA1306000026 has multiple names: ['Racine Ave & Fullerton Ave' 'Racine Ave & Fullerton Ave (Temp)']\n",
      "Station ID TA1308000026 has multiple names: ['Wentworth Ave & 24th St (Temp)' 'Wentworth Ave & 24th St']\n",
      "Station ID TA1309000042 has multiple names: ['Lincoln Ave & Belmont Ave (Temp)' 'Lincoln Ave & Melrose St']\n",
      " total de 73 estações com mais de um nome\n"
     ]
    }
   ],
   "source": [
    "# Iterate over the Series\n",
    "total_stations = 0\n",
    "for station_id, names in unique_names.items():\n",
    "    if len(names) > 1:\n",
    "        print(f\"Station ID {station_id} has multiple names: {names}\")\n",
    "        total_stations = total_stations  + 1\n",
    "print(f\" total de {total_stations} estações com mais de um nome\")"
   ]
  },
  {
   "cell_type": "raw",
   "id": "2bac2555-8e4d-4bde-aa6b-ec201a77f1fa",
   "metadata": {},
   "source": [
    "#Como tem mais de um nome em 73 ids, tenho que mudar esses nomes pra deixar somente o primeiro nome da lista\n",
    "#Mas e se eu adotar o primeiro nome, e o segundo nome estiver sendo usado em outro lugar?\n",
    "#Decidi deixar assim mesmo, sem excluir nem mudar os nomes\n",
    "# # Step 1: Create the mapping dictionary\n",
    "# name_mapping = {station_id: names[0] for station_id, names in unique_names.items()}\n",
    "\n",
    "# # Step 2: Replace all station names in the DataFrame using the mapping\n",
    "# df['station_name'] = df['station_id'].map(name_mapping)"
   ]
  },
  {
   "cell_type": "code",
   "execution_count": 47,
   "id": "e4bd2366-0c43-444e-a3c8-f33db8762945",
   "metadata": {},
   "outputs": [],
   "source": [
    "##pivot table, mostrando as viagens por origem-destino\n",
    "pivot_table = valid_rows3.pivot_table(index='start_station_name', columns='end_station_name', aggfunc='size', fill_value=0)"
   ]
  },
  {
   "cell_type": "code",
   "execution_count": 48,
   "id": "44165ec8-8d1a-4829-8c07-eec8a0e8ca55",
   "metadata": {},
   "outputs": [
    {
     "data": {
      "text/plain": [
       "9624"
      ]
     },
     "execution_count": 48,
     "metadata": {},
     "output_type": "execute_result"
    }
   ],
   "source": [
    "#para ver o numero maximo do dataframe\n",
    "pivot_table.to_numpy().max()"
   ]
  },
  {
   "cell_type": "code",
   "execution_count": 49,
   "id": "535d29e6-5e3b-41ae-90fe-ae4b311915d6",
   "metadata": {},
   "outputs": [
    {
     "data": {
      "text/plain": [
       "728178.0"
      ]
     },
     "execution_count": 49,
     "metadata": {},
     "output_type": "execute_result"
    }
   ],
   "source": [
    "#se fosse um df com colunas que não sejam numéricas, teria que filtrar:\n",
    "valid_rows3.max(numeric_only=True).max()"
   ]
  },
  {
   "cell_type": "code",
   "execution_count": 50,
   "id": "91e31543-f907-4016-8a2e-ad75eea70f91",
   "metadata": {},
   "outputs": [
    {
     "name": "stdout",
     "output_type": "stream",
     "text": [
      "The maximum value is in the row: Streeter Dr & Grand Ave and column: Streeter Dr & Grand Ave\n"
     ]
    }
   ],
   "source": [
    "#Mas preciso saber a linha e a coluna desse máximo:\n",
    "max_value_index = pivot_table.stack().idxmax()\n",
    "# max_value_index is a tuple (row_name, column_name)\n",
    "print(f\"The maximum value is in the row: {max_value_index[0]} and column: {max_value_index[1]}\")"
   ]
  },
  {
   "cell_type": "code",
   "execution_count": 51,
   "id": "b8461025-7a22-4581-8b50-05f24813d6e3",
   "metadata": {},
   "outputs": [
    {
     "data": {
      "text/plain": [
       "9624"
      ]
     },
     "execution_count": 51,
     "metadata": {},
     "output_type": "execute_result"
    }
   ],
   "source": [
    "#Conferindo o resultado, pegando a linha e coluna obtidos\n",
    "pivot_table.loc[max_value_index[0], max_value_index[1]]"
   ]
  },
  {
   "cell_type": "markdown",
   "id": "2c3fde64-2a98-4201-b458-342f9898df42",
   "metadata": {},
   "source": [
    "Quais as rotas mais solicitadas?"
   ]
  },
  {
   "cell_type": "code",
   "execution_count": 53,
   "id": "062d7adb-d352-47f7-8e0c-bae5836bdedc",
   "metadata": {},
   "outputs": [],
   "source": [
    "# Assuming 'pivot_table' is your DataFrame created from the pivot operation\n",
    "# Stack the pivot table to get a MultiIndex Series\n",
    "stacked_pivot = pivot_table.stack()"
   ]
  },
  {
   "cell_type": "code",
   "execution_count": 54,
   "id": "a44113e4-e6da-45d3-b039-1a4985b2a639",
   "metadata": {},
   "outputs": [],
   "source": [
    "# Reset the index to turn it into a DataFrame\n",
    "routes_df = stacked_pivot.reset_index(name='quantity')"
   ]
  },
  {
   "cell_type": "code",
   "execution_count": 55,
   "id": "c3bb0c95-10e8-4640-9def-6b441ea11380",
   "metadata": {},
   "outputs": [],
   "source": [
    "# Create a 'route' column by concatenating 'start_station' and 'end_station' with a separator\n",
    "routes_df['route'] = routes_df['start_station_name'] + ' to ' + routes_df['end_station_name']"
   ]
  },
  {
   "cell_type": "code",
   "execution_count": 56,
   "id": "9f7588f0-5a6a-4d95-afce-e8fef1f8d886",
   "metadata": {},
   "outputs": [],
   "source": [
    "most_used_routes_df = routes_df.sort_values(by='quantity', ascending=False).reset_index()\n",
    "sdf = most_used_routes_df[['quantity', 'route']].head() #só pra ler uma parte dos resultados"
   ]
  },
  {
   "cell_type": "code",
   "execution_count": 57,
   "id": "a3fe660a-22c0-4fc8-b009-2e52631698fa",
   "metadata": {},
   "outputs": [
    {
     "data": {
      "text/plain": [
       "980.4489494882748"
      ]
     },
     "execution_count": 57,
     "metadata": {},
     "output_type": "execute_result"
    }
   ],
   "source": [
    "#Qual a duração média das viagens?\n",
    "valid_rows3['travel_duration'].mean()"
   ]
  },
  {
   "cell_type": "code",
   "execution_count": 58,
   "id": "e8585ada-8169-456d-aeb4-4dfd21f7f174",
   "metadata": {},
   "outputs": [
    {
     "data": {
      "text/plain": [
       "dia_semana\n",
       "Domingo          1195.477254\n",
       "Quarta-feira      851.940413\n",
       "Quinta-feira      866.699849\n",
       "Segunda-feira     920.413200\n",
       "Sexta-feira       969.614226\n",
       "Sábado           1189.376930\n",
       "Terça-feira       871.708950\n",
       "Name: travel_duration, dtype: float64"
      ]
     },
     "execution_count": 58,
     "metadata": {},
     "output_type": "execute_result"
    }
   ],
   "source": [
    "#Qual a média de viagens por dia da semana?\n",
    "valid_rows3.groupby('dia_semana')['travel_duration'].mean()"
   ]
  },
  {
   "cell_type": "markdown",
   "id": "a8e83cfc-e73d-47b8-8d33-dbfb570da9f4",
   "metadata": {},
   "source": [
    "Agrupamento por estações do ano"
   ]
  },
  {
   "cell_type": "code",
   "execution_count": 60,
   "id": "34a6dd9a-5272-4a95-9d57-2349c412c112",
   "metadata": {},
   "outputs": [],
   "source": [
    "# Function to map quarter start dates to season names\n",
    "def get_season_name(start_date):\n",
    "    month = start_date.month\n",
    "    if month in [12, 1, 2]:\n",
    "        return 'Winter'\n",
    "    elif month in [3, 4, 5]:\n",
    "        return 'Spring'\n",
    "    elif month in [6, 7, 8]:\n",
    "        return 'Summer'\n",
    "    elif month in [9, 10, 11]:\n",
    "        return 'Fall'"
   ]
  },
  {
   "cell_type": "code",
   "execution_count": 61,
   "id": "e9c3f692-63e2-43c5-a586-c2fca07b0b5d",
   "metadata": {},
   "outputs": [
    {
     "name": "stderr",
     "output_type": "stream",
     "text": [
      "/tmp/ipykernel_104/1997524813.py:2: SettingWithCopyWarning: \n",
      "A value is trying to be set on a copy of a slice from a DataFrame.\n",
      "Try using .loc[row_indexer,col_indexer] = value instead\n",
      "\n",
      "See the caveats in the documentation: https://pandas.pydata.org/pandas-docs/stable/user_guide/indexing.html#returning-a-view-versus-a-copy\n",
      "  valid_rows3['season'] = valid_rows3['started_at'].apply(get_season_name)\n"
     ]
    }
   ],
   "source": [
    "# Apply the function to create a new column 'season'\n",
    "valid_rows3['season'] = valid_rows3['started_at'].apply(get_season_name)"
   ]
  },
  {
   "cell_type": "code",
   "execution_count": 62,
   "id": "b7affc0b-a61b-43c3-913d-612f6817519b",
   "metadata": {},
   "outputs": [
    {
     "data": {
      "text/plain": [
       "<Axes: xlabel='season'>"
      ]
     },
     "execution_count": 62,
     "metadata": {},
     "output_type": "execute_result"
    },
    {
     "data": {
      "image/png": "[encoded data removed]",
      "text/plain": [
       "<Figure size 640x480 with 1 Axes>"
      ]
     },
     "metadata": {},
     "output_type": "display_data"
    }
   ],
   "source": [
    "# Group by the 'season' column and count the occurrences\n",
    "seasonly_counts = valid_rows3.groupby('season').size().reset_index(name='counts').sort_values(by='counts', ascending=False).reset_index()\n",
    "seasonly_counts.plot(kind='bar', x='season', y='counts', legend=False)\n",
    "#RESPOSTA: No verão tem mais procura, seguido de primavera, outono, e inverno por último"
   ]
  },
  {
   "cell_type": "code",
   "execution_count": 63,
   "id": "04b3dd51-98aa-4fa9-aafd-750795db1844",
   "metadata": {},
   "outputs": [],
   "source": [
    "#Quais as estações com mais partidas ou chegadas?\n",
    "most_started_stations = valid_rows3.groupby('start_station_id')['start_station_id'].count().sort_values(ascending=False).head(10)\n",
    "most_started_destination = valid_rows3.groupby('end_station_id')['end_station_id'].count().sort_values(ascending=False).head(10)"
   ]
  },
  {
   "cell_type": "code",
   "execution_count": 64,
   "id": "8249cd93-ce2a-4b7b-b111-c238f9e4c8a1",
   "metadata": {},
   "outputs": [],
   "source": [
    "####criação do db com várias tabelas\n",
    "from create_database import create_database\n"
   ]
  },
  {
   "cell_type": "code",
   "execution_count": 65,
   "id": "f48622f7-4443-4fb9-87e4-6740c5a27c24",
   "metadata": {},
   "outputs": [],
   "source": [
    "# Call the create_database function\n",
    "#create_database(valid_rows3, 'newdb9.db')"
   ]
  },
  {
   "cell_type": "markdown",
   "id": "e797c3d4-5a21-4e9e-a88c-eeb0b798034d",
   "metadata": {},
   "source": [
    "ANÁLISE POR GRUPO"
   ]
  },
  {
   "cell_type": "code",
   "execution_count": 67,
   "id": "61c79f77-fca1-40f7-b95d-ef63b08098b5",
   "metadata": {},
   "outputs": [
    {
     "data": {
      "text/plain": [
       "member_casual\n",
       "casual    1422785\n",
       "member    2466510\n",
       "Name: ride_id, dtype: int64"
      ]
     },
     "execution_count": 67,
     "metadata": {},
     "output_type": "execute_result"
    }
   ],
   "source": [
    "\n",
    "#contagem de viagens por grupo\n",
    "valid_rows3.groupby('member_casual')['ride_id'].count()"
   ]
  },
  {
   "cell_type": "code",
   "execution_count": 68,
   "id": "9098ab82-c99c-46a4-896d-97caf8f58038",
   "metadata": {},
   "outputs": [],
   "source": [
    "#criar subsets pelos membros\n",
    "df_membros =  valid_rows3[valid_rows3['member_casual'] == 'member']\n",
    "df_casual = valid_rows3[valid_rows3['member_casual'] == 'casual']"
   ]
  },
  {
   "cell_type": "code",
   "execution_count": 69,
   "id": "c69b7133-1d34-4baf-b399-84bf83e11cd7",
   "metadata": {},
   "outputs": [],
   "source": [
    "# só checando o total\n",
    "# valid_rows3.shape[0]\n",
    "# df_membros.shape[0] + df_casual.shape[0] "
   ]
  },
  {
   "cell_type": "code",
   "execution_count": 70,
   "id": "641ec108-2a30-40d1-b2ac-2e36cf3756b9",
   "metadata": {},
   "outputs": [
    {
     "name": "stdout",
     "output_type": "stream",
     "text": [
      "<class 'pandas.core.frame.DataFrame'>\n",
      "Index: 2466510 entries, 0 to 5133259\n",
      "Data columns (total 17 columns):\n",
      " #   Column              Dtype         \n",
      "---  ------              -----         \n",
      " 0   ride_id             object        \n",
      " 1   rideable_type       object        \n",
      " 2   started_at          datetime64[ns]\n",
      " 3   ended_at            datetime64[ns]\n",
      " 4   start_station_name  object        \n",
      " 5   start_station_id    object        \n",
      " 6   end_station_name    object        \n",
      " 7   end_station_id      object        \n",
      " 8   start_lat           float64       \n",
      " 9   start_lng           float64       \n",
      " 10  end_lat             float64       \n",
      " 11  end_lng             float64       \n",
      " 12  member_casual       object        \n",
      " 13  travel_duration     float64       \n",
      " 14  dia_semana          object        \n",
      " 15  month               int32         \n",
      " 16  season              object        \n",
      "dtypes: datetime64[ns](2), float64(5), int32(1), object(9)\n",
      "memory usage: 329.3+ MB\n",
      "<class 'pandas.core.frame.DataFrame'>\n",
      "Index: 1422785 entries, 7 to 5133246\n",
      "Data columns (total 17 columns):\n",
      " #   Column              Non-Null Count    Dtype         \n",
      "---  ------              --------------    -----         \n",
      " 0   ride_id             1422785 non-null  object        \n",
      " 1   rideable_type       1422785 non-null  object        \n",
      " 2   started_at          1422785 non-null  datetime64[ns]\n",
      " 3   ended_at            1422785 non-null  datetime64[ns]\n",
      " 4   start_station_name  1422785 non-null  object        \n",
      " 5   start_station_id    1422785 non-null  object        \n",
      " 6   end_station_name    1422785 non-null  object        \n",
      " 7   end_station_id      1422785 non-null  object        \n",
      " 8   start_lat           1422785 non-null  float64       \n",
      " 9   start_lng           1422785 non-null  float64       \n",
      " 10  end_lat             1422785 non-null  float64       \n",
      " 11  end_lng             1422785 non-null  float64       \n",
      " 12  member_casual       1422785 non-null  object        \n",
      " 13  travel_duration     1422785 non-null  float64       \n",
      " 14  dia_semana          1422785 non-null  object        \n",
      " 15  month               1422785 non-null  int32         \n",
      " 16  season              1422785 non-null  object        \n",
      "dtypes: datetime64[ns](2), float64(5), int32(1), object(9)\n",
      "memory usage: 190.0+ MB\n"
     ]
    }
   ],
   "source": [
    "# valid_rows3.columns\n",
    "df_membros.describe()\n",
    "df_casual.describe()\n",
    "df_membros.info()\n",
    "df_casual.info()"
   ]
  },
  {
   "cell_type": "code",
   "execution_count": 71,
   "id": "e7ef231e-833a-441f-bf36-eb1fab46bc76",
   "metadata": {},
   "outputs": [
    {
     "data": {
      "text/plain": [
       "member_casual\n",
       "member    63.42%\n",
       "casual    36.58%\n",
       "Name: proportion, dtype: object"
      ]
     },
     "execution_count": 71,
     "metadata": {},
     "output_type": "execute_result"
    }
   ],
   "source": [
    "# Calculate the percentage of rides per member type\n",
    "percentage_rides_per_member = valid_rows3['member_casual'].value_counts(normalize=True) * 100\n",
    "percentage_rides_per_member.apply(lambda x: f'{x:.2f}%')"
   ]
  },
  {
   "cell_type": "markdown",
   "id": "0b5b2e7b-3575-4271-911c-d8f670ab26e2",
   "metadata": {},
   "source": [
    "Média de viagens, por grupo, por dia da semana"
   ]
  },
  {
   "cell_type": "code",
   "execution_count": 73,
   "id": "b0320fb5-fdba-4d03-b7c8-06e28fca5ba2",
   "metadata": {},
   "outputs": [],
   "source": [
    "##### média de viagens por dia da semana\n",
    "#por agrupar em 2 itens, fica um Series multiIndex\n",
    "mean_travel_duration = valid_rows3.groupby(['member_casual', 'dia_semana'])['travel_duration'].mean()"
   ]
  },
  {
   "cell_type": "code",
   "execution_count": 74,
   "id": "27f1969b-1793-4c49-9f23-234d3cc4c3c4",
   "metadata": {},
   "outputs": [
    {
     "data": {
      "text/plain": [
       "<Axes: title={'center': 'Mean Travel Duration by Member Type and Day of the Week'}, xlabel='Member Type', ylabel='Mean Travel Duration'>"
      ]
     },
     "execution_count": 74,
     "metadata": {},
     "output_type": "execute_result"
    },
    {
     "data": {
      "image/png": "[encoded data removed]",
      "text/plain": [
       "<Figure size 1000x600 with 1 Axes>"
      ]
     },
     "metadata": {},
     "output_type": "display_data"
    }
   ],
   "source": [
    "# Pivot the table for better visualization\n",
    "mean_travel_duration2 = mean_travel_duration.unstack(level='dia_semana')\n",
    "\n",
    "# Plot the data\n",
    "mean_travel_duration2.plot(kind='bar', rot=0, title='Mean Travel Duration by Member Type and Day of the Week',\n",
    "                          xlabel='Member Type', ylabel='Mean Travel Duration', figsize=(10, 6))"
   ]
  },
  {
   "cell_type": "code",
   "execution_count": 75,
   "id": "9343d27b-c8db-4376-8922-30c61e70977f",
   "metadata": {},
   "outputs": [],
   "source": [
    "#CONCLUSÃO: As viagens dos casuais são mais longas do que as dos membros"
   ]
  },
  {
   "cell_type": "markdown",
   "id": "f34de1f0-9447-4162-9287-03d4a7d64dc6",
   "metadata": {},
   "source": [
    "Média de viagens, por mês, por grupo"
   ]
  },
  {
   "cell_type": "code",
   "execution_count": 77,
   "id": "8767acff-625d-42c0-9e34-6c5141fa5f86",
   "metadata": {},
   "outputs": [
    {
     "name": "stderr",
     "output_type": "stream",
     "text": [
      "/tmp/ipykernel_104/3789841410.py:2: SettingWithCopyWarning: \n",
      "A value is trying to be set on a copy of a slice from a DataFrame.\n",
      "Try using .loc[row_indexer,col_indexer] = value instead\n",
      "\n",
      "See the caveats in the documentation: https://pandas.pydata.org/pandas-docs/stable/user_guide/indexing.html#returning-a-view-versus-a-copy\n",
      "  valid_rows3['month'] = valid_rows3['started_at'].dt.month\n"
     ]
    }
   ],
   "source": [
    "#inserir a coluna de mes\n",
    "valid_rows3['month'] = valid_rows3['started_at'].dt.month"
   ]
  },
  {
   "cell_type": "code",
   "execution_count": 78,
   "id": "94250cef-f5dd-4701-8fae-517a9a801622",
   "metadata": {},
   "outputs": [],
   "source": [
    "#agrupar por tipo de membro e mes\n",
    "# monthly_counts = valid_rows3.groupby(['member_casual', 'month']).mean()\n",
    "monthly_counts = valid_rows3.groupby(['member_casual', 'month'])['travel_duration'].mean()"
   ]
  },
  {
   "cell_type": "code",
   "execution_count": 79,
   "id": "a46e6235-8ccf-453c-9e2d-31b82739333f",
   "metadata": {},
   "outputs": [],
   "source": [
    "# Pivot the table for better visualization\n",
    "monthly_counts2 = monthly_counts.unstack(level='month')"
   ]
  },
  {
   "cell_type": "code",
   "execution_count": 80,
   "id": "a8df3dff-e3df-4025-824e-037c3a7b3c26",
   "metadata": {},
   "outputs": [
    {
     "data": {
      "text/plain": [
       "<Axes: title={'center': 'Total de viagens por mês, por grupo'}, xlabel='Member Type', ylabel='média'>"
      ]
     },
     "execution_count": 80,
     "metadata": {},
     "output_type": "execute_result"
    },
    {
     "data": {
      "image/png": "[encoded data removed]",
      "text/plain": [
       "<Figure size 1000x600 with 1 Axes>"
      ]
     },
     "metadata": {},
     "output_type": "display_data"
    }
   ],
   "source": [
    "##plotando esse gráfico\n",
    "monthly_counts2.plot(kind='bar', figsize=(10,6), rot=0, title='Total de viagens por mês, por grupo', xlabel='Member Type', ylabel='média')"
   ]
  },
  {
   "cell_type": "code",
   "execution_count": 81,
   "id": "3ee460da-c1db-4581-8e5b-1d6c4764ae9c",
   "metadata": {},
   "outputs": [],
   "source": [
    "###### Qual a duração média das viagens?\n",
    "mean_travel_duration3 = valid_rows3.groupby('member_casual')['travel_duration'].mean()"
   ]
  },
  {
   "cell_type": "markdown",
   "id": "1b694edf-c4a3-4d3a-884b-4c3cbf35e49b",
   "metadata": {},
   "source": [
    "Quais as estações mais usadas, por grupo?"
   ]
  },
  {
   "cell_type": "code",
   "execution_count": 83,
   "id": "5ec2e868-c736-4cf7-a9fb-13426a4034aa",
   "metadata": {},
   "outputs": [],
   "source": [
    "#Quais as estações com mais partidas ou chegadas?\n",
    "#Achei mais facil usar os dfs separados, porque senão fica agrupado por estação, e pode ser que\n",
    "#um grupo tenha dados em uma estação mas o outro grupo não tenha"
   ]
  },
  {
   "cell_type": "code",
   "execution_count": 84,
   "id": "2727c4f4-8b41-4d81-b45d-c88d6e90a9f1",
   "metadata": {},
   "outputs": [],
   "source": [
    "most_started_stations_membros = df_membros.groupby('start_station_id')['start_station_id'].count().sort_values(ascending=False).head(10)\n",
    "most_started_stations_casual = df_casual.groupby('start_station_id')['start_station_id'].count().sort_values(ascending=False).head(10)"
   ]
  },
  {
   "cell_type": "code",
   "execution_count": 85,
   "id": "3f18d324-089c-4561-8fcc-4d629a7ae368",
   "metadata": {},
   "outputs": [],
   "source": [
    "most_started_destinations_membros = df_membros.groupby('end_station_id')['end_station_id'].count().sort_values(ascending=False).head(10)\n",
    "most_started_destinations_casual = df_casual.groupby('end_station_id')['end_station_id'].count().sort_values(ascending=False).head(10)"
   ]
  },
  {
   "cell_type": "code",
   "execution_count": 86,
   "id": "530e8ff9-ce40-41e8-8e4d-73a8639f19db",
   "metadata": {},
   "outputs": [],
   "source": [
    "#qual a rota mais usada, por grupo?\n",
    "# Quais as estações com mais partidas ou chegadas?"
   ]
  },
  {
   "cell_type": "raw",
   "id": "3d7e2215-947e-493e-9bff-86ba74584456",
   "metadata": {},
   "source": [
    "viagens por estação do ano, por grupo\n"
   ]
  },
  {
   "cell_type": "code",
   "execution_count": 87,
   "id": "cc1ddf61-39b6-4515-bf93-8a985aa67ed0",
   "metadata": {},
   "outputs": [],
   "source": [
    "#Fazer as mesmas análises mas agora no SQL\n",
    "#\tDá pra ver se teve alguma época específica em que o nome dos id's mudou?\t\n",
    "#\t** Por último, rodar tudo de novo mas agora incluindo as linhas corrigidas"
   ]
  },
  {
   "cell_type": "code",
   "execution_count": 88,
   "id": "6eaec73d-e38e-4eea-9d90-96fe4ddf29e1",
   "metadata": {},
   "outputs": [],
   "source": [
    "#Como plotar as viagens em um mapa?\n",
    "#(ver https://coderzcolumn.com/tutorials/data-science/how-to-create-connection-map-chart-in-python-jupyter-notebook-plotly-and-geopandas#google_vignette)"
   ]
  },
  {
   "cell_type": "code",
   "execution_count": null,
   "id": "c191c5b2-eecd-4433-a439-d4828b3491e3",
   "metadata": {},
   "outputs": [],
   "source": []
  }
 ],
 "metadata": {
  "kernelspec": {
   "display_name": "anaconda-panel-2023.05-py310",
   "language": "python",
   "name": "conda-env-anaconda-panel-2023.05-py310-py"
  },
  "language_info": {
   "codemirror_mode": {
    "name": "ipython",
    "version": 3
   },
   "file_extension": ".py",
   "mimetype": "text/x-python",
   "name": "python",
   "nbconvert_exporter": "python",
   "pygments_lexer": "ipython3",
   "version": "3.11.5"
  },
  "toc-autonumbering": true,
  "toc-showcode": false,
  "toc-showmarkdowntxt": true,
  "toc-showtags": false
 },
 "nbformat": 4,
 "nbformat_minor": 5
}
